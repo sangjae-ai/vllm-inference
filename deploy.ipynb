{
 "cells": [
  {
   "cell_type": "markdown",
   "metadata": {},
   "source": [
    "# HF model_id로 부터 배포"
   ]
  },
  {
   "cell_type": "code",
   "execution_count": 4,
   "metadata": {},
   "outputs": [],
   "source": [
    "import os\n",
    "from dotenv import load_dotenv\n",
    "load_dotenv()\n",
    "\n",
    "HF_TOKEN = os.environ.get(\"HF_TOKEN\")"
   ]
  },
  {
   "cell_type": "code",
   "execution_count": 5,
   "metadata": {},
   "outputs": [
    {
     "name": "stdout",
     "output_type": "stream",
     "text": [
      "gemma3-s3-vllm-async-2025-08-13-10-48-23-372\n"
     ]
    }
   ],
   "source": [
    "from sagemaker import Model\n",
    "import sagemaker, boto3\n",
    "\n",
    "region = \"us-west-2\"\n",
    "sess = sagemaker.Session()\n",
    "role = sagemaker.get_execution_role()\n",
    "\n",
    "model_id = \"google/gemma-3-4b-it\"\n",
    "\n",
    "# LMI v15 (vLLM) 컨테이너 URI (버전은 예시)\n",
    "container_uri = f\"763104351884.dkr.ecr.{region}.amazonaws.com/djl-inference:0.33.0-lmi15.0.0-cu128\"\n",
    "\n",
    "\n",
    "# vLLM Async 모드(권장). LoRA가 필요 없다면 성능/안정성 좋음\n",
    "env = {\n",
    "    \"HF_MODEL_ID\": model_id,\n",
    "    # \"HF_MODEL_ID\": \"s3://my-model-train/hf_models/gemma-3-4b-it-uncompressed/\",\n",
    "    \"OPTION_ASYNC_MODE\": \"true\",\n",
    "    \"OPTION_ROLLING_BATCH\": \"disable\",\n",
    "    \"OPTION_ENTRYPOINT\": \"djl_python.lmi_vllm.vllm_async_service\",\n",
    "    \"OPTION_MAX_MODEL_LEN\": \"8192\",\n",
    "    \"SERVING_FAIL_FAST\": \"true\",\n",
    "    \"HF_TOKEN\": HF_TOKEN, # \"<your token>\"\n",
    "}\n",
    "\n",
    "model = Model(image_uri=container_uri, role=role,  env=env)\n",
    "endpoint_name = sagemaker.utils.name_from_base(\"gemma3-s3-vllm-async\")\n",
    "\n",
    "print(endpoint_name)"
   ]
  },
  {
   "cell_type": "code",
   "execution_count": 6,
   "metadata": {},
   "outputs": [
    {
     "name": "stdout",
     "output_type": "stream",
     "text": [
      "------------------!"
     ]
    }
   ],
   "source": [
    "predictor = model.deploy(\n",
    "    initial_instance_count=1,\n",
    "    instance_type=\"ml.g5.24xlarge\",\n",
    "    endpoint_name=endpoint_name,\n",
    "    container_startup_health_check_timeout=500,  # 대형 모델 로딩 여유\n",
    ")"
   ]
  },
  {
   "cell_type": "code",
   "execution_count": 7,
   "metadata": {},
   "outputs": [
    {
     "name": "stdout",
     "output_type": "stream",
     "text": [
      "{\"id\":\"chatcmpl-d957dd896621418c84db47e192c5a588\",\"object\":\"chat.completion\",\"created\":1755082754,\"model\":\"lmi\",\"choices\":[{\"index\":0,\"message\":{\"role\":\"assistant\",\"reasoning_content\":null,\"content\":\"가을 캠핑 체크리스트를 만들어 드릴게요! 🍂🍁 가을 캠핑은 여름만큼 뜨겁지 않지만, 쌀쌀한 날씨와 변덕스러운 날씨 때문에 꼼꼼한 준비가 필요합니다. \\n\\n**1. 캠핑 장비 점검 및 준비**\\n\\n*   [ ] 텐트: 방수, 방풍 기능 확인 및 팩, 스틱 등 부속품 점검\\n*   [ ] 타프: 바람에 잘 맞는지, 팩이 잘 박히는지 확인\\n*   [ ] 테이블, 의자: 튼튼한지, 수납 가능한지 확인\\n*   [ ] 랜턴, 헤드랜턴: 여분 배터리 준비\\n*   [ ] 버너, 연료: 작동 확인 및 연료 충분히 준비\\n*   [ ] 코펠, 식기, 조리도구: 깨끗하게 세척 후 준비\\n*   [ ] 보관함, 수납 가방: 짐 정리 용이하도록 준비\\n*   [ ] 캠핑 매트, 침낭: 텐트 온도를 고려하여 침낭 선택\\n*   [ ] 난방 용품 (선택): 전기히터, 보\",\"tool_calls\":[]},\"logprobs\":null,\"finish_reason\":\"length\",\"stop_reason\":null}],\"usage\":{\"prompt_tokens\":18,\"total_tokens\":274,\"completion_tokens\":256,\"prompt_tokens_details\":null},\"prompt_logprobs\":null}\n",
      "\n"
     ]
    }
   ],
   "source": [
    "import boto3, json\n",
    "smr = boto3.client(\"sagemaker-runtime\", region_name=region)\n",
    "\n",
    "body = {\n",
    "  \"messages\":[{\"role\":\"user\",\"content\":\"가을 캠핑 체크리스트 만들어줘\"}],\n",
    "  \"max_tokens\":256,\n",
    "  \"temperature\":0.7,\n",
    "  \"stream\":False\n",
    "}\n",
    "\n",
    "resp = smr.invoke_endpoint(\n",
    "    EndpointName=endpoint_name,\n",
    "    Body=json.dumps(body),\n",
    "    ContentType=\"application/json\"\n",
    ")\n",
    "print(resp[\"Body\"].read().decode())"
   ]
  },
  {
   "cell_type": "markdown",
   "metadata": {},
   "source": [
    "# S3로 부터 배포"
   ]
  },
  {
   "cell_type": "code",
   "execution_count": 1,
   "metadata": {},
   "outputs": [],
   "source": [
    "# instance_type = \"ml.p4d.24xlarge\"\n",
    "instance_type = \"ml.g6.24xlarge\"\n",
    "# instance_type = \"ml.g5.24xlarge\""
   ]
  },
  {
   "cell_type": "code",
   "execution_count": 2,
   "metadata": {},
   "outputs": [
    {
     "name": "stdout",
     "output_type": "stream",
     "text": [
      "sagemaker.config INFO - Not applying SDK defaults from location: /etc/xdg/sagemaker/config.yaml\n",
      "sagemaker.config INFO - Not applying SDK defaults from location: /home/sagemaker-user/.config/sagemaker/config.yaml\n",
      "gemma3-s3-vllm-async-2025-08-14-02-10-03-005\n"
     ]
    }
   ],
   "source": [
    "from sagemaker import Model\n",
    "import sagemaker, boto3\n",
    "\n",
    "region = \"us-west-2\"\n",
    "sess = sagemaker.Session()\n",
    "role = sagemaker.get_execution_role()\n",
    "\n",
    "model_id = \"google/gemma-3-4b-it\"\n",
    "\n",
    "# LMI v15 (vLLM) 컨테이너 URI (버전은 예시)\n",
    "container_uri = f\"763104351884.dkr.ecr.{region}.amazonaws.com/djl-inference:0.33.0-lmi15.0.0-cu128\" # Nvidia Driver 550을 요구 (p5계열)\n",
    "# container_uri = \"763104351884.dkr.ecr.us-west-2.amazonaws.com/djl-inference:0.31.0-lmi13.0.0-cu124-v1.0\"\n",
    "\n",
    "\n",
    "\n",
    "s3_uri = \"s3://my-model-train/hf_models/gemma-3-4b-it-uncompressed/\"\n",
    "\n",
    "# # S3 prefix(끝에 /) 아래에 config.json, *.safetensors, tokenizer.* 등이 그대로 있는 상태\n",
    "# model_data = {\n",
    "#     \"S3DataSource\": {\n",
    "#         \"S3Uri\": \"s3://my-model-train/hf_models/gemma-3-4b-it-uncompressed/\",  # 병합 모델이라면 이 경로\n",
    "#         \"S3DataType\": \"S3Prefix\",\n",
    "#         \"CompressionType\": \"None\"\n",
    "#     }\n",
    "# }\n",
    "\n",
    "# vLLM Async 모드(권장). LoRA가 필요 없다면 성능/안정성 좋음\n",
    "env = {\n",
    "    \"HF_MODEL_ID\": s3_uri,\n",
    "    \"OPTION_ASYNC_MODE\": \"true\",\n",
    "    \"OPTION_ROLLING_BATCH\": \"disable\",\n",
    "    # \"OPTION_ROLLING_BATCH\": \"vllm\",\n",
    "    # \"OPTION_MAX_ROLLING_BATCH_SIZE\": \"8\",\n",
    "    # \"OPTION_MODEL_IMPL\": \"transformers\",\n",
    "    \"OPTION_TENSOR_PARALLEL_DEGREE\": \"max\",\n",
    "    \"OPTION_DTYPE\": \"auto\",  #\"bfloat16\",\n",
    "    \"OPTION_TRUST_REMOTE_CODE\": \"true\",\n",
    "    \"OPTION_ENTRYPOINT\": \"djl_python.lmi_vllm.vllm_async_service\",\n",
    "    \"OPTION_MAX_MODEL_LEN\": \"4096\",\n",
    "    \"SERVING_FAIL_FAST\": \"true\",\n",
    "    \"OPTION_GPU_MEMORY_UTILIZATION\": \"0.75\",\n",
    "    \"OPTION_SWAP_SPACE\": \"4\",\n",
    "    # 필요 시 커스텀 모델 파일이 있으면:\n",
    "    # \"OPTION_TRUST_REMOTE_CODE\": \"true\",\n",
    "}\n",
    "\n",
    "# env = {\n",
    "#     \"HF_MODEL_ID\": s3_uri,\n",
    "#     \"OPTION_ROLLING_BATCH\": \"vllm\",\n",
    "#     \"OPTION_DTYPE\": \"auto\",\n",
    "#     \"OPTION_GPU_MEMORY_UTILIZATION\": \"0.8\",      # 0.7에서 0.6으로 감소\n",
    "#     \"OPTION_MAX_ROLLING_BATCH_SIZE\": \"4\",        # 8에서 4로 감소\n",
    "#     \"OPTION_MAX_NUM_BATCHED_TOKENS\": \"1024\",      # 512에서 256으로 감소\n",
    "#     \"OPTION_TENSOR_PARALLEL_DEGREE\": \"max\",        # max 대신 명시적으로 4\n",
    "#     \"OPTION_MAX_MODEL_LEN\": \"512\",              # 512에서 1024로 증가\n",
    "#     \"OPTION_TRUST_REMOTE_CODE\": \"true\",\n",
    "#     \"OPTION_ASYNC_MODE\": \"true\",\n",
    "#     # \"OPTION_PREEMPTION_MODE\": \"swap\",\n",
    "#     \"OPTION_SWAP_SPACE\": \"16\",\n",
    "#     \"OPTION_ENTRYPOINT\": \"djl_python.lmi_vllm.vllm_async_service\",\n",
    "# }\n",
    "\n",
    "# model = Model(image_uri=container_uri, role=role, model_data=model_data, env=env)\n",
    "model = Model(image_uri=container_uri, role=role,  env=env)\n",
    "endpoint_name_s3 = sagemaker.utils.name_from_base(\"gemma3-s3-vllm-async\")\n",
    "\n",
    "print(endpoint_name_s3)\n",
    "\n"
   ]
  },
  {
   "cell_type": "code",
   "execution_count": 3,
   "metadata": {},
   "outputs": [
    {
     "name": "stdout",
     "output_type": "stream",
     "text": [
      "------------------!"
     ]
    }
   ],
   "source": [
    "predictor = model.deploy(\n",
    "    initial_instance_count=1,\n",
    "    instance_type=instance_type,\n",
    "    endpoint_name=endpoint_name_s3,\n",
    "    container_startup_health_check_timeout=500,  # 대형 모델 로딩 여유\n",
    ")"
   ]
  },
  {
   "cell_type": "code",
   "execution_count": 4,
   "metadata": {},
   "outputs": [
    {
     "name": "stdout",
     "output_type": "stream",
     "text": [
      "{\"id\":\"chatcmpl-62ee558c6dc94e7f9158a9fa553b4ffe\",\"object\":\"chat.completion\",\"created\":1755137979,\"model\":\"lmi\",\"choices\":[{\"index\":0,\"message\":{\"role\":\"assistant\",\"reasoning_content\":null,\"content\":\"가을 캠핑 체크리스트를 만들어 드릴게요! 가을 캠핑은 여름만큼 뜨겁지 않지만, 밤에는 쌀쌀해지기 때문에 꼼꼼하게 준비해야 합니다. \\n\\n**1. 캠핑 장비 점검 및 준비**\\n\\n*   [ ] 텐트: 찢어짐, 마모, 방수 상태 확인 및 방수 스프레이 뿌리기\\n*   [ ] 타프: 찢어짐, 마모, 방수 상태 확인\\n*   [ ] 테이블, 의자: 파손 여부 확인, 이동 바구니 준비\\n*   [ ] 랜턴, 헤드랜턴: 배터리 충전 및 새 배터리 준비\\n*   [ ] 버너, 연료: 버너 작동 확인, 연료 충분히 보충\\n*   [ ] 코펠, 식기류: 세척 및 준비, 칼, 도마, 조리도구\\n*   [ ] 냉장고/쿨러: 아이스박스 아이스팩/얼음 준비\\n*   [ ] 침낭, 매트: 청소 및 점검, 보온에 신경 쓰기\\n*   [ ] 캠핑 가방: 짐 정리 및 이동\",\"tool_calls\":[]},\"logprobs\":null,\"finish_reason\":\"length\",\"stop_reason\":null}],\"usage\":{\"prompt_tokens\":18,\"total_tokens\":274,\"completion_tokens\":256,\"prompt_tokens_details\":null},\"prompt_logprobs\":null}\n",
      "\n"
     ]
    }
   ],
   "source": [
    "import boto3, json\n",
    "smr = boto3.client(\"sagemaker-runtime\", region_name=region)\n",
    "\n",
    "body = {\n",
    "  \"messages\":[{\"role\":\"user\",\"content\":\"가을 캠핑 체크리스트 만들어줘\"}],\n",
    "  \"max_tokens\":256,\n",
    "  \"temperature\":0.7,\n",
    "  \"stream\":False\n",
    "}\n",
    "\n",
    "resp = smr.invoke_endpoint(\n",
    "    EndpointName=endpoint_name_s3,\n",
    "    Body=json.dumps(body),\n",
    "    ContentType=\"application/json\"\n",
    ")\n",
    "print(resp[\"Body\"].read().decode())"
   ]
  },
  {
   "cell_type": "code",
   "execution_count": null,
   "metadata": {},
   "outputs": [],
   "source": []
  },
  {
   "cell_type": "code",
   "execution_count": null,
   "metadata": {},
   "outputs": [],
   "source": []
  },
  {
   "cell_type": "code",
   "execution_count": null,
   "metadata": {},
   "outputs": [],
   "source": []
  },
  {
   "cell_type": "code",
   "execution_count": null,
   "metadata": {},
   "outputs": [],
   "source": []
  }
 ],
 "metadata": {
  "kernelspec": {
   "display_name": "Python 3 (ipykernel)",
   "language": "python",
   "name": "python3"
  },
  "language_info": {
   "codemirror_mode": {
    "name": "ipython",
    "version": 3
   },
   "file_extension": ".py",
   "mimetype": "text/x-python",
   "name": "python",
   "nbconvert_exporter": "python",
   "pygments_lexer": "ipython3",
   "version": "3.11.11"
  }
 },
 "nbformat": 4,
 "nbformat_minor": 4
}
