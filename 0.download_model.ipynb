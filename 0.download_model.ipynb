{
 "cells": [
  {
   "cell_type": "markdown",
   "metadata": {},
   "source": [
    "# 모델 다운로드 & S3 업로드"
   ]
  },
  {
   "cell_type": "code",
   "execution_count": 1,
   "metadata": {},
   "outputs": [],
   "source": [
    "import os\n",
    "from huggingface_hub import snapshot_download\n"
   ]
  },
  {
   "cell_type": "code",
   "execution_count": 2,
   "metadata": {},
   "outputs": [],
   "source": [
    "# Gemma3-12B 모델 다운로드\n",
    "# model_name = \"google/gemma-2-12b\"\n",
    "model_id = \"google/gemma-3-4b-it\"\n",
    "local_model_path = \"./gemma3-4b-it\"\n",
    "\n",
    "model_id = \"Qwen/Qwen2.5-7B-Instruct\"\n",
    "local_model_path = \"./Qwen2.5-7B-Instruct\"\n"
   ]
  },
  {
   "cell_type": "markdown",
   "metadata": {},
   "source": [
    "모델 다운로드 \n",
    "- Hugging Face에서 모델 다운로드"
   ]
  },
  {
   "cell_type": "code",
   "execution_count": 3,
   "metadata": {},
   "outputs": [
    {
     "name": "stderr",
     "output_type": "stream",
     "text": [
      "/opt/conda/lib/python3.11/site-packages/huggingface_hub/file_download.py:982: UserWarning: `local_dir_use_symlinks` parameter is deprecated and will be ignored. The process to download files to a local folder has been updated and do not rely on symlinks anymore. You only need to pass a destination folder as`local_dir`.\n",
      "For more details, check out https://huggingface.co/docs/huggingface_hub/main/en/guides/download#download-files-to-local-folder.\n",
      "  warnings.warn(\n"
     ]
    },
    {
     "data": {
      "application/vnd.jupyter.widget-view+json": {
       "model_id": "f31e15ddf9d54114969d2372e68074da",
       "version_major": 2,
       "version_minor": 0
      },
      "text/plain": [
       "Fetching 14 files:   0%|          | 0/14 [00:00<?, ?it/s]"
      ]
     },
     "metadata": {},
     "output_type": "display_data"
    },
    {
     "data": {
      "application/vnd.jupyter.widget-view+json": {
       "model_id": "3bb2c8fb063d4f9b86de758f28037070",
       "version_major": 2,
       "version_minor": 0
      },
      "text/plain": [
       ".gitattributes: 0.00B [00:00, ?B/s]"
      ]
     },
     "metadata": {},
     "output_type": "display_data"
    },
    {
     "data": {
      "application/vnd.jupyter.widget-view+json": {
       "model_id": "32dcbaa4922b45b985bdcb533172c6dd",
       "version_major": 2,
       "version_minor": 0
      },
      "text/plain": [
       "config.json:   0%|          | 0.00/663 [00:00<?, ?B/s]"
      ]
     },
     "metadata": {},
     "output_type": "display_data"
    },
    {
     "data": {
      "application/vnd.jupyter.widget-view+json": {
       "model_id": "586c905da5a24d8ea58efe656a4e4c66",
       "version_major": 2,
       "version_minor": 0
      },
      "text/plain": [
       "README.md: 0.00B [00:00, ?B/s]"
      ]
     },
     "metadata": {},
     "output_type": "display_data"
    },
    {
     "data": {
      "application/vnd.jupyter.widget-view+json": {
       "model_id": "4a8d43b007364d4bb6d9e3056d1816c9",
       "version_major": 2,
       "version_minor": 0
      },
      "text/plain": [
       "merges.txt: 0.00B [00:00, ?B/s]"
      ]
     },
     "metadata": {},
     "output_type": "display_data"
    },
    {
     "data": {
      "application/vnd.jupyter.widget-view+json": {
       "model_id": "de97cd0b1a8546d5be74fc63fc90e312",
       "version_major": 2,
       "version_minor": 0
      },
      "text/plain": [
       "LICENSE: 0.00B [00:00, ?B/s]"
      ]
     },
     "metadata": {},
     "output_type": "display_data"
    },
    {
     "data": {
      "application/vnd.jupyter.widget-view+json": {
       "model_id": "45c1f4620fdd4a2692beeacdf5b2fb68",
       "version_major": 2,
       "version_minor": 0
      },
      "text/plain": [
       "generation_config.json:   0%|          | 0.00/243 [00:00<?, ?B/s]"
      ]
     },
     "metadata": {},
     "output_type": "display_data"
    },
    {
     "data": {
      "application/vnd.jupyter.widget-view+json": {
       "model_id": "0323c364a8354b31a6ed98ce4608111e",
       "version_major": 2,
       "version_minor": 0
      },
      "text/plain": [
       "model-00001-of-00004.safetensors:   0%|          | 0.00/3.95G [00:00<?, ?B/s]"
      ]
     },
     "metadata": {},
     "output_type": "display_data"
    },
    {
     "data": {
      "application/vnd.jupyter.widget-view+json": {
       "model_id": "7df98d7541aa464db7d5076f2da5e10a",
       "version_major": 2,
       "version_minor": 0
      },
      "text/plain": [
       "model-00002-of-00004.safetensors:   0%|          | 0.00/3.86G [00:00<?, ?B/s]"
      ]
     },
     "metadata": {},
     "output_type": "display_data"
    },
    {
     "data": {
      "application/vnd.jupyter.widget-view+json": {
       "model_id": "5d03d5b7070b4a699cbabf1d32d7023e",
       "version_major": 2,
       "version_minor": 0
      },
      "text/plain": [
       "model-00003-of-00004.safetensors:   0%|          | 0.00/3.86G [00:00<?, ?B/s]"
      ]
     },
     "metadata": {},
     "output_type": "display_data"
    },
    {
     "data": {
      "application/vnd.jupyter.widget-view+json": {
       "model_id": "d680944a10714677bb2589078a4a776d",
       "version_major": 2,
       "version_minor": 0
      },
      "text/plain": [
       "tokenizer.json: 0.00B [00:00, ?B/s]"
      ]
     },
     "metadata": {},
     "output_type": "display_data"
    },
    {
     "data": {
      "application/vnd.jupyter.widget-view+json": {
       "model_id": "ab50a5c15cc242d2a08ca49f20729159",
       "version_major": 2,
       "version_minor": 0
      },
      "text/plain": [
       "model.safetensors.index.json: 0.00B [00:00, ?B/s]"
      ]
     },
     "metadata": {},
     "output_type": "display_data"
    },
    {
     "data": {
      "application/vnd.jupyter.widget-view+json": {
       "model_id": "5d011f3843504aa0920520bea84070d9",
       "version_major": 2,
       "version_minor": 0
      },
      "text/plain": [
       "model-00004-of-00004.safetensors:   0%|          | 0.00/3.56G [00:00<?, ?B/s]"
      ]
     },
     "metadata": {},
     "output_type": "display_data"
    },
    {
     "data": {
      "application/vnd.jupyter.widget-view+json": {
       "model_id": "81f9ae61e845477d89365abd3cd7138d",
       "version_major": 2,
       "version_minor": 0
      },
      "text/plain": [
       "tokenizer_config.json: 0.00B [00:00, ?B/s]"
      ]
     },
     "metadata": {},
     "output_type": "display_data"
    },
    {
     "data": {
      "application/vnd.jupyter.widget-view+json": {
       "model_id": "c52e74dd5296471f9ab6409cd4fd04a4",
       "version_major": 2,
       "version_minor": 0
      },
      "text/plain": [
       "vocab.json: 0.00B [00:00, ?B/s]"
      ]
     },
     "metadata": {},
     "output_type": "display_data"
    },
    {
     "data": {
      "text/plain": [
       "'/mnt/custom-file-systems/efs/fs-03939c261be80e548_fsap-09dd049f188e6ddf4/SKT/Qwen2.5-7B-Instruct'"
      ]
     },
     "execution_count": 3,
     "metadata": {},
     "output_type": "execute_result"
    }
   ],
   "source": [
    "\n",
    "snapshot_download(\n",
    "    repo_id=model_id,\n",
    "    local_dir=local_model_path,\n",
    "    local_dir_use_symlinks=False\n",
    ")\n",
    "\n"
   ]
  },
  {
   "cell_type": "markdown",
   "metadata": {},
   "source": []
  },
  {
   "cell_type": "code",
   "execution_count": 15,
   "metadata": {},
   "outputs": [
    {
     "name": "stdout",
     "output_type": "stream",
     "text": [
      "./gemma3-12b-it/\n",
      "./gemma3-12b-it/model-00003-of-00005.safetensors\n",
      "./gemma3-12b-it/tokenizer_config.json\n",
      "./gemma3-12b-it/preprocessor_config.json\n",
      "./gemma3-12b-it/.cache/\n",
      "./gemma3-12b-it/.cache/huggingface/\n",
      "./gemma3-12b-it/.cache/huggingface/download/\n",
      "./gemma3-12b-it/.cache/huggingface/download/generation_config.json.lock\n",
      "./gemma3-12b-it/.cache/huggingface/download/.gitattributes.lock\n",
      "./gemma3-12b-it/.cache/huggingface/download/model-00004-of-00005.safetensors.metadata\n",
      "./gemma3-12b-it/.cache/huggingface/download/special_tokens_map.json.lock\n",
      "./gemma3-12b-it/.cache/huggingface/download/special_tokens_map.json.metadata\n",
      "./gemma3-12b-it/.cache/huggingface/download/model-00004-of-00005.safetensors.lock\n",
      "./gemma3-12b-it/.cache/huggingface/download/.gitattributes.metadata\n",
      "./gemma3-12b-it/.cache/huggingface/download/generation_config.json.metadata\n",
      "./gemma3-12b-it/.cache/huggingface/download/added_tokens.json.lock\n",
      "./gemma3-12b-it/.cache/huggingface/download/processor_config.json.lock\n",
      "./gemma3-12b-it/.cache/huggingface/download/README.md.lock\n",
      "./gemma3-12b-it/.cache/huggingface/download/README.md.metadata\n",
      "./gemma3-12b-it/.cache/huggingface/download/processor_config.json.metadata\n",
      "./gemma3-12b-it/.cache/huggingface/download/added_tokens.json.metadata\n",
      "./gemma3-12b-it/.cache/huggingface/download/chat_template.json.metadata\n",
      "./gemma3-12b-it/.cache/huggingface/download/tokenizer.json.metadata\n",
      "./gemma3-12b-it/.cache/huggingface/download/chat_template.json.lock\n",
      "./gemma3-12b-it/.cache/huggingface/download/tokenizer.json.lock\n",
      "./gemma3-12b-it/.cache/huggingface/download/model-00002-of-00005.safetensors.lock\n",
      "./gemma3-12b-it/.cache/huggingface/download/model-00002-of-00005.safetensors.metadata\n",
      "./gemma3-12b-it/.cache/huggingface/download/tokenizer.model.lock\n",
      "./gemma3-12b-it/.cache/huggingface/download/model.safetensors.index.json.lock\n",
      "./gemma3-12b-it/.cache/huggingface/download/model-00005-of-00005.safetensors.metadata\n",
      "./gemma3-12b-it/.cache/huggingface/download/model.safetensors.index.json.metadata\n",
      "./gemma3-12b-it/.cache/huggingface/download/tokenizer.model.metadata\n",
      "./gemma3-12b-it/.cache/huggingface/download/model-00005-of-00005.safetensors.lock\n",
      "./gemma3-12b-it/.cache/huggingface/download/config.json.lock\n",
      "./gemma3-12b-it/.cache/huggingface/download/model-00001-of-00005.safetensors.lock\n",
      "./gemma3-12b-it/.cache/huggingface/download/config.json.metadata\n",
      "./gemma3-12b-it/.cache/huggingface/download/model-00001-of-00005.safetensors.metadata\n",
      "./gemma3-12b-it/.cache/huggingface/download/preprocessor_config.json.metadata\n",
      "./gemma3-12b-it/.cache/huggingface/download/preprocessor_config.json.lock\n",
      "./gemma3-12b-it/.cache/huggingface/download/model-00003-of-00005.safetensors.lock\n",
      "./gemma3-12b-it/.cache/huggingface/download/tokenizer_config.json.metadata\n",
      "./gemma3-12b-it/.cache/huggingface/download/model-00003-of-00005.safetensors.metadata\n",
      "./gemma3-12b-it/.cache/huggingface/download/tokenizer_config.json.lock\n",
      "./gemma3-12b-it/.cache/huggingface/.gitignore\n",
      "./gemma3-12b-it/model-00005-of-00005.safetensors\n",
      "./gemma3-12b-it/tokenizer.model\n",
      "./gemma3-12b-it/model.safetensors.index.json\n",
      "./gemma3-12b-it/config.json\n",
      "./gemma3-12b-it/model-00001-of-00005.safetensors\n",
      "./gemma3-12b-it/model-00004-of-00005.safetensors\n",
      "./gemma3-12b-it/generation_config.json\n",
      "./gemma3-12b-it/.gitattributes\n",
      "./gemma3-12b-it/special_tokens_map.json\n",
      "./gemma3-12b-it/processor_config.json\n",
      "./gemma3-12b-it/added_tokens.json\n",
      "./gemma3-12b-it/README.md\n",
      "./gemma3-12b-it/tokenizer.json\n",
      "./gemma3-12b-it/chat_template.json\n",
      "./gemma3-12b-it/model-00002-of-00005.safetensors\n"
     ]
    }
   ],
   "source": [
    "# !tar -czvf model.tar.gz {local_model_path}"
   ]
  },
  {
   "cell_type": "markdown",
   "metadata": {},
   "source": [
    "### Bucket URI 가져오기\n",
    "- 만약, 별도 버킷이 없다면 S3 버킷 생성\n",
    "    - bash : `aws s3 mb <<s3://your-model-bucket>>`\n",
    "- S3에 업로드 \n",
    "    - bash : `aws s3 sync ./gemma3-12b <<s3://your-model-bucket/gemma3-12b/>>`\n"
   ]
  },
  {
   "cell_type": "code",
   "execution_count": 4,
   "metadata": {},
   "outputs": [
    {
     "data": {
      "text/plain": [
       "'s3://my-model-train/hf_models/Qwen2.5-7B-Instruct'"
      ]
     },
     "execution_count": 4,
     "metadata": {},
     "output_type": "execute_result"
    }
   ],
   "source": [
    "bucket_uri = f\"s3://my-model-train/hf_models/{model_id.split('/')[-1]}\"\n",
    "bucket_uri"
   ]
  },
  {
   "cell_type": "code",
   "execution_count": 6,
   "metadata": {},
   "outputs": [
    {
     "name": "stdout",
     "output_type": "stream",
     "text": [
      "upload: ./model-4b.tar.gz to s3://my-model-train/hf_models/gemma-3-4b-it/model.tar.gz\n"
     ]
    }
   ],
   "source": [
    "# !aws s3 cp ./model.tar.gz {bucket_uri}/model.tar.gz\n",
    "!aws s3 cp ./model-4b.tar.gz {bucket_uri}/model.tar.gz"
   ]
  },
  {
   "cell_type": "code",
   "execution_count": 5,
   "metadata": {},
   "outputs": [
    {
     "name": "stdout",
     "output_type": "stream",
     "text": [
      "upload: Qwen2.5-7B-Instruct/.cache/huggingface/.gitignore to s3://my-model-train/hf_models/Qwen2.5-7B-Instruct-uncompressed/.cache/huggingface/.gitignore\n",
      "upload: Qwen2.5-7B-Instruct/.cache/huggingface/download/.gitattributes.lock to s3://my-model-train/hf_models/Qwen2.5-7B-Instruct-uncompressed/.cache/huggingface/download/.gitattributes.lock\n",
      "upload: Qwen2.5-7B-Instruct/.cache/huggingface/download/config.json.metadata to s3://my-model-train/hf_models/Qwen2.5-7B-Instruct-uncompressed/.cache/huggingface/download/config.json.metadata\n",
      "upload: Qwen2.5-7B-Instruct/.cache/huggingface/download/merges.txt.metadata to s3://my-model-train/hf_models/Qwen2.5-7B-Instruct-uncompressed/.cache/huggingface/download/merges.txt.metadata\n",
      "upload: Qwen2.5-7B-Instruct/.cache/huggingface/download/README.md.metadata to s3://my-model-train/hf_models/Qwen2.5-7B-Instruct-uncompressed/.cache/huggingface/download/README.md.metadata\n",
      "upload: Qwen2.5-7B-Instruct/.cache/huggingface/download/LICENSE.lock to s3://my-model-train/hf_models/Qwen2.5-7B-Instruct-uncompressed/.cache/huggingface/download/LICENSE.lock\n",
      "upload: Qwen2.5-7B-Instruct/.cache/huggingface/download/.gitattributes.metadata to s3://my-model-train/hf_models/Qwen2.5-7B-Instruct-uncompressed/.cache/huggingface/download/.gitattributes.metadata\n",
      "upload: Qwen2.5-7B-Instruct/.cache/huggingface/download/generation_config.json.lock to s3://my-model-train/hf_models/Qwen2.5-7B-Instruct-uncompressed/.cache/huggingface/download/generation_config.json.lock\n",
      "upload: Qwen2.5-7B-Instruct/.cache/huggingface/download/merges.txt.lock to s3://my-model-train/hf_models/Qwen2.5-7B-Instruct-uncompressed/.cache/huggingface/download/merges.txt.lock\n",
      "upload: Qwen2.5-7B-Instruct/.cache/huggingface/download/README.md.lock to s3://my-model-train/hf_models/Qwen2.5-7B-Instruct-uncompressed/.cache/huggingface/download/README.md.lock\n",
      "upload: Qwen2.5-7B-Instruct/.cache/huggingface/download/LICENSE.metadata to s3://my-model-train/hf_models/Qwen2.5-7B-Instruct-uncompressed/.cache/huggingface/download/LICENSE.metadata\n",
      "upload: Qwen2.5-7B-Instruct/.cache/huggingface/download/config.json.lock to s3://my-model-train/hf_models/Qwen2.5-7B-Instruct-uncompressed/.cache/huggingface/download/config.json.lock\n",
      "upload: Qwen2.5-7B-Instruct/.cache/huggingface/download/generation_config.json.metadata to s3://my-model-train/hf_models/Qwen2.5-7B-Instruct-uncompressed/.cache/huggingface/download/generation_config.json.metadata\n",
      "upload: Qwen2.5-7B-Instruct/.cache/huggingface/download/model-00004-of-00004.safetensors.lock to s3://my-model-train/hf_models/Qwen2.5-7B-Instruct-uncompressed/.cache/huggingface/download/model-00004-of-00004.safetensors.lock\n",
      "upload: Qwen2.5-7B-Instruct/.cache/huggingface/download/model-00001-of-00004.safetensors.metadata to s3://my-model-train/hf_models/Qwen2.5-7B-Instruct-uncompressed/.cache/huggingface/download/model-00001-of-00004.safetensors.metadata\n",
      "upload: Qwen2.5-7B-Instruct/.cache/huggingface/download/model-00004-of-00004.safetensors.metadata to s3://my-model-train/hf_models/Qwen2.5-7B-Instruct-uncompressed/.cache/huggingface/download/model-00004-of-00004.safetensors.metadata\n",
      "upload: Qwen2.5-7B-Instruct/.cache/huggingface/download/model-00002-of-00004.safetensors.lock to s3://my-model-train/hf_models/Qwen2.5-7B-Instruct-uncompressed/.cache/huggingface/download/model-00002-of-00004.safetensors.lock\n",
      "upload: Qwen2.5-7B-Instruct/.cache/huggingface/download/model-00003-of-00004.safetensors.metadata to s3://my-model-train/hf_models/Qwen2.5-7B-Instruct-uncompressed/.cache/huggingface/download/model-00003-of-00004.safetensors.metadata\n",
      "upload: Qwen2.5-7B-Instruct/.cache/huggingface/download/model-00003-of-00004.safetensors.lock to s3://my-model-train/hf_models/Qwen2.5-7B-Instruct-uncompressed/.cache/huggingface/download/model-00003-of-00004.safetensors.lock\n",
      "upload: Qwen2.5-7B-Instruct/.cache/huggingface/download/model.safetensors.index.json.metadata to s3://my-model-train/hf_models/Qwen2.5-7B-Instruct-uncompressed/.cache/huggingface/download/model.safetensors.index.json.metadata\n",
      "upload: Qwen2.5-7B-Instruct/.cache/huggingface/download/model-00002-of-00004.safetensors.metadata to s3://my-model-train/hf_models/Qwen2.5-7B-Instruct-uncompressed/.cache/huggingface/download/model-00002-of-00004.safetensors.metadata\n",
      "upload: Qwen2.5-7B-Instruct/.cache/huggingface/download/model-00001-of-00004.safetensors.lock to s3://my-model-train/hf_models/Qwen2.5-7B-Instruct-uncompressed/.cache/huggingface/download/model-00001-of-00004.safetensors.lock\n",
      "upload: Qwen2.5-7B-Instruct/.cache/huggingface/download/model.safetensors.index.json.lock to s3://my-model-train/hf_models/Qwen2.5-7B-Instruct-uncompressed/.cache/huggingface/download/model.safetensors.index.json.lock\n",
      "upload: Qwen2.5-7B-Instruct/.cache/huggingface/download/tokenizer.json.metadata to s3://my-model-train/hf_models/Qwen2.5-7B-Instruct-uncompressed/.cache/huggingface/download/tokenizer.json.metadata\n",
      "upload: Qwen2.5-7B-Instruct/.cache/huggingface/download/tokenizer_config.json.lock to s3://my-model-train/hf_models/Qwen2.5-7B-Instruct-uncompressed/.cache/huggingface/download/tokenizer_config.json.lock\n",
      "upload: Qwen2.5-7B-Instruct/.cache/huggingface/download/vocab.json.metadata to s3://my-model-train/hf_models/Qwen2.5-7B-Instruct-uncompressed/.cache/huggingface/download/vocab.json.metadata\n",
      "upload: Qwen2.5-7B-Instruct/.cache/huggingface/download/tokenizer.json.lock to s3://my-model-train/hf_models/Qwen2.5-7B-Instruct-uncompressed/.cache/huggingface/download/tokenizer.json.lock\n",
      "upload: Qwen2.5-7B-Instruct/LICENSE to s3://my-model-train/hf_models/Qwen2.5-7B-Instruct-uncompressed/LICENSE\n",
      "upload: Qwen2.5-7B-Instruct/.cache/huggingface/download/tokenizer_config.json.metadata to s3://my-model-train/hf_models/Qwen2.5-7B-Instruct-uncompressed/.cache/huggingface/download/tokenizer_config.json.metadata\n",
      "upload: Qwen2.5-7B-Instruct/.cache/huggingface/download/vocab.json.lock to s3://my-model-train/hf_models/Qwen2.5-7B-Instruct-uncompressed/.cache/huggingface/download/vocab.json.lock\n",
      "upload: Qwen2.5-7B-Instruct/generation_config.json to s3://my-model-train/hf_models/Qwen2.5-7B-Instruct-uncompressed/generation_config.json\n",
      "upload: Qwen2.5-7B-Instruct/.gitattributes to s3://my-model-train/hf_models/Qwen2.5-7B-Instruct-uncompressed/.gitattributes\n",
      "upload: Qwen2.5-7B-Instruct/config.json to s3://my-model-train/hf_models/Qwen2.5-7B-Instruct-uncompressed/config.json\n",
      "upload: Qwen2.5-7B-Instruct/README.md to s3://my-model-train/hf_models/Qwen2.5-7B-Instruct-uncompressed/README.md\n",
      "upload: Qwen2.5-7B-Instruct/merges.txt to s3://my-model-train/hf_models/Qwen2.5-7B-Instruct-uncompressed/merges.txt\n",
      "upload: Qwen2.5-7B-Instruct/model-00001-of-00004.safetensors to s3://my-model-train/hf_models/Qwen2.5-7B-Instruct-uncompressed/model-00001-of-00004.safetensors\n",
      "upload: Qwen2.5-7B-Instruct/tokenizer_config.json to s3://my-model-train/hf_models/Qwen2.5-7B-Instruct-uncompressed/tokenizer_config.json\n",
      "upload: Qwen2.5-7B-Instruct/model.safetensors.index.json to s3://my-model-train/hf_models/Qwen2.5-7B-Instruct-uncompressed/model.safetensors.index.json\n",
      "upload: Qwen2.5-7B-Instruct/tokenizer.json to s3://my-model-train/hf_models/Qwen2.5-7B-Instruct-uncompressed/tokenizer.json\n",
      "upload: Qwen2.5-7B-Instruct/vocab.json to s3://my-model-train/hf_models/Qwen2.5-7B-Instruct-uncompressed/vocab.json\n",
      "upload: Qwen2.5-7B-Instruct/model-00002-of-00004.safetensors to s3://my-model-train/hf_models/Qwen2.5-7B-Instruct-uncompressed/model-00002-of-00004.safetensors\n",
      "upload: Qwen2.5-7B-Instruct/model-00004-of-00004.safetensors to s3://my-model-train/hf_models/Qwen2.5-7B-Instruct-uncompressed/model-00004-of-00004.safetensors\n",
      "upload: Qwen2.5-7B-Instruct/model-00003-of-00004.safetensors to s3://my-model-train/hf_models/Qwen2.5-7B-Instruct-uncompressed/model-00003-of-00004.safetensors\n"
     ]
    }
   ],
   "source": [
    "# uncompressed\n",
    "!aws s3 sync ./{model_id.split('/')[-1]} {bucket_uri}-uncompressed"
   ]
  },
  {
   "cell_type": "markdown",
   "metadata": {},
   "source": [
    "## (Option) S3에 파일을 업로드 하는 방법 (pytho code 버전)"
   ]
  },
  {
   "cell_type": "code",
   "execution_count": 12,
   "metadata": {},
   "outputs": [
    {
     "name": "stdout",
     "output_type": "stream",
     "text": [
      " [+] 사전 정보 :  ./gemma3-12b-it s3://my-model-train/hf_models/\n",
      "STDOUT: \n",
      "STDERR: \n",
      "Unknown options: --progress\n",
      "\n",
      "Return code: 252\n"
     ]
    }
   ],
   "source": [
    "# 모델을 S3에 업로드\n",
    "# aws s3 sync ./gemma3-12b s3://your-model-bucket/gemma3-12b/\n",
    "import subprocess\n",
    "\n",
    "print(\" [+] 사전 정보 : \", local_model_path, bucket_uri)\n",
    "\n",
    "# aws s3 sync 실행\n",
    "result = subprocess.run([\n",
    "    \"aws\", \"s3\", \"sync\",\n",
    "    local_model_path,\n",
    "    bucket_uri,\n",
    "], capture_output=True, text=True)\n",
    "\n",
    "print(\"STDOUT:\", result.stdout)\n",
    "print(\"STDERR:\", result.stderr)\n",
    "print(\"Return code:\", result.returncode)\n",
    "\n"
   ]
  },
  {
   "cell_type": "code",
   "execution_count": null,
   "metadata": {},
   "outputs": [],
   "source": []
  },
  {
   "cell_type": "code",
   "execution_count": null,
   "metadata": {},
   "outputs": [],
   "source": []
  }
 ],
 "metadata": {
  "kernelspec": {
   "display_name": "Python 3 (ipykernel)",
   "language": "python",
   "name": "python3"
  },
  "language_info": {
   "codemirror_mode": {
    "name": "ipython",
    "version": 3
   },
   "file_extension": ".py",
   "mimetype": "text/x-python",
   "name": "python",
   "nbconvert_exporter": "python",
   "pygments_lexer": "ipython3",
   "version": "3.11.11"
  }
 },
 "nbformat": 4,
 "nbformat_minor": 4
}
