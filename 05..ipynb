{
 "cells": [
  {
   "cell_type": "code",
   "execution_count": null,
   "metadata": {},
   "outputs": [],
   "source": []
  },
  {
   "cell_type": "code",
   "execution_count": 14,
   "metadata": {},
   "outputs": [],
   "source": [
    "import io \n",
    "import sagemaker\n",
    "import boto3\n",
    "import json\n",
    "from sagemaker import get_execution_role\n",
    "\n",
    "import base64\n"
   ]
  },
  {
   "cell_type": "code",
   "execution_count": 15,
   "metadata": {},
   "outputs": [
    {
     "name": "stdout",
     "output_type": "stream",
     "text": [
      "arn:aws:iam::396608815783:role/service-role/AmazonSageMaker-ExecutionRole-20250207T102425 us-west-2\n"
     ]
    }
   ],
   "source": [
    "\n",
    "role = get_execution_role()\n",
    "region = boto3.Session().region_name\n",
    "print(role, region)\n",
    "\n",
    "sagemaker_session = sagemaker.session.Session()\n",
    "sm_client = boto3.client(\"sagemaker\", region_name=region)\n",
    "sm_runtime_client = boto3.client(\"sagemaker-runtime\")\n",
    "\n",
    "\n"
   ]
  },
  {
   "cell_type": "code",
   "execution_count": 16,
   "metadata": {},
   "outputs": [
    {
     "name": "stdout",
     "output_type": "stream",
     "text": [
      "{'Endpoints': [{'EndpointName': 'gemma3-s3-vllm-async-2025-08-14-02-10-03-005', 'EndpointArn': 'arn:aws:sagemaker:us-west-2:396608815783:endpoint/gemma3-s3-vllm-async-2025-08-14-02-10-03-005', 'CreationTime': datetime.datetime(2025, 8, 14, 2, 10, 5, 750000, tzinfo=tzlocal()), 'LastModifiedTime': datetime.datetime(2025, 8, 14, 2, 19, 17, 309000, tzinfo=tzlocal()), 'EndpointStatus': 'InService'}, {'EndpointName': 'gemma3-s3-vllm-async-2025-08-14-01-16-07-849', 'EndpointArn': 'arn:aws:sagemaker:us-west-2:396608815783:endpoint/gemma3-s3-vllm-async-2025-08-14-01-16-07-849', 'CreationTime': datetime.datetime(2025, 8, 14, 1, 16, 9, 400000, tzinfo=tzlocal()), 'LastModifiedTime': datetime.datetime(2025, 8, 14, 1, 25, 31, 472000, tzinfo=tzlocal()), 'EndpointStatus': 'InService'}, {'EndpointName': 'QWEN-2-5-7B-G5-2025-08-12-03-05-19-368', 'EndpointArn': 'arn:aws:sagemaker:us-west-2:396608815783:endpoint/QWEN-2-5-7B-G5-2025-08-12-03-05-19-368', 'CreationTime': datetime.datetime(2025, 8, 12, 3, 5, 27, 192000, tzinfo=tzlocal()), 'LastModifiedTime': datetime.datetime(2025, 8, 12, 3, 11, 48, 536000, tzinfo=tzlocal()), 'EndpointStatus': 'InService'}], 'ResponseMetadata': {'RequestId': 'f78e8dcb-ff90-4c75-9794-f7f54f362d25', 'HTTPStatusCode': 200, 'HTTPHeaders': {'x-amzn-requestid': 'f78e8dcb-ff90-4c75-9794-f7f54f362d25', 'content-type': 'application/x-amz-json-1.1', 'content-length': '816', 'date': 'Thu, 14 Aug 2025 02:24:45 GMT'}, 'RetryAttempts': 0}} \n",
      "\n",
      " - endpoint_name :  gemma3-s3-vllm-async-2025-08-14-02-10-03-005\n"
     ]
    }
   ],
   "source": [
    "# SageMaker Endpoint 이름\n",
    "# endpoint_name = sagemaker.utils.name_from_base(\"QWEN-2-5-7B-G5\")\n",
    "# endpoint_name = \"QWEN-2-5-7B-G5-2025-08-12-03-05-19-368\"\n",
    "\n",
    "\n",
    "all_endpoint = sm_client.list_endpoints()\n",
    "print(all_endpoint,\"\\n\")\n",
    "endpoint_name = all_endpoint['Endpoints'][0]['EndpointName']\n",
    "print(\" - endpoint_name : \", endpoint_name)\n",
    "\n",
    "image_path = \"images/test001.png\""
   ]
  },
  {
   "cell_type": "code",
   "execution_count": 17,
   "metadata": {},
   "outputs": [],
   "source": [
    "predictor = sagemaker.Predictor(\n",
    "    endpoint_name=endpoint_name,\n",
    "    sagemaker_session=sagemaker_session,\n",
    "    serializer=sagemaker.serializers.JSONSerializer(),\n",
    "    deserializer=sagemaker.deserializers.JSONDeserializer(),\n",
    ")\n"
   ]
  },
  {
   "cell_type": "code",
   "execution_count": 33,
   "metadata": {},
   "outputs": [],
   "source": [
    "# 1. 이미지 파일을 base64로 인코딩\n",
    "with open(image_path, \"rb\") as f:\n",
    "    image_b64 = base64.b64encode(f.read()).decode(\"utf-8\")\n",
    "\n",
    "\n",
    "payload = {\n",
    "    \"messages\": [\n",
    "        {\n",
    "            \"role\": \"user\",\n",
    "            \"content\": [\n",
    "                # {\"type\": \"image\", \"data\": image_b64},\n",
    "                # {\"type\": \"text\", \"text\": \"이 이미지는 무엇인가요?\"}\n",
    "                # {\"type\": \"text\", \"text\": \" Ai Agent 무엇인가요?\"}\n",
    "                # {\"type\": \"text\", \"text\": \"이 이미지는 무엇인가요?\"}\n",
    "                {\"type\": \"text\", \"text\": \"안녕하세요.\"},\n",
    "                # {\"type\": \"image\", \"image_url\": \"https://huggingface.co/datasets/huggingface/documentation-images/resolve/main/p-blog/candy.JPG\"},\n",
    "                # {\"type\": \"image\", \"data\": image_b64},\n",
    "                \n",
    "                \n",
    "            ]\n",
    "        }\n",
    "    ],\n",
    "    \"max_tokens\": 256,\n",
    "    \"temperature\": 0.8\n",
    "}\n",
    "\n",
    "payload = {\n",
    "    \"messages\": [\n",
    "        {\n",
    "            \"role\": \"user\",\n",
    "            \"content\": [\n",
    "                # {\"type\": \"text\", \"text\": \"hello.\"},\n",
    "                \n",
    "                {\"type\": \"image\", \"image_base64\": image_b64},\n",
    "                {\"type\": \"text\", \"text\": \"이 이미지의 내용을 설명해 주세요.\"},\n",
    "            ]\n",
    "        }\n",
    "    ]\n",
    "}\n",
    "\n",
    "single_image_payload = {\n",
    "    \"messages\": [\n",
    "        {\n",
    "            \"role\": \"user\",\n",
    "            \"content\": [\n",
    "                {\n",
    "                    \"type\": \"image_url\",\n",
    "                    \"image_url\": {\n",
    "                        \"url\": \"https://huggingface.co/datasets/huggingface/documentation-images/resolve/main/p-blog/candy.JPG\",\n",
    "                    }\n",
    "                },\n",
    "                {\n",
    "                    \"type\": \"text\",\n",
    "                    \"text\": \"이미지에 대해서 설명해줘.\",\n",
    "                },\n",
    "                \n",
    "            ]\n",
    "        }\n",
    "    ],\n",
    "    \"max_tokens\": 1024,\n",
    "    \"temperature\": 0.6,\n",
    "    \"top_p\": 0.9,\n",
    "}\n"
   ]
  },
  {
   "cell_type": "code",
   "execution_count": 34,
   "metadata": {},
   "outputs": [],
   "source": [
    "# JSON 문자열로 변환\n",
    "# payload_json = json.dumps(payload)\n",
    "\n",
    "# 엔드포인트에 요청 보내기\n",
    "# response = predictor.predict(data=payload_json)\n",
    "response = predictor.predict(single_image_payload)"
   ]
  },
  {
   "cell_type": "code",
   "execution_count": 35,
   "metadata": {},
   "outputs": [
    {
     "data": {
      "text/plain": [
       "{'id': 'chatcmpl-e5f2c55234a74bfe83458d73ae24f745',\n",
       " 'object': 'chat.completion',\n",
       " 'created': 1755139169,\n",
       " 'model': 'lmi',\n",
       " 'choices': [{'index': 0,\n",
       "   'message': {'role': 'assistant',\n",
       "    'reasoning_content': None,\n",
       "    'content': '이미지에 대한 설명입니다.\\n\\n**전반적인 내용:**\\n\\n*   **주요 피사체:** 한 손에 여러 개의 캔디가 들어 있는 모습입니다.\\n*   **배경:** 밝은 색상의 나무 바닥이 배경으로 보입니다.\\n*   **조명:** 자연광 또는 밝은 조명 아래 촬영되었으며, 손과 캔디에 그림자가 드리워져 있습니다.\\n\\n**캔디에 대한 설명:**\\n\\n*   **색상:** 캔디는 다양한 색상으로, 파란색, 주황색, 초록색, 보라색 등으로 보입니다.\\n*   **디자인:** 각 캔디에는 독특한 디자인이 새겨져 있습니다.\\n    *   파란색 캔디에는 잎 모양이 그려져 있습니다.\\n    *   보라색 캔디에는 작은 동물 모양이 그려져 있습니다.\\n    *   초록색 캔디에는 잎 모양이 그려져 있습니다.\\n    *   주황색 캔디에는 잎 모양이 그려져 있습니다.\\n*   **모양:** 캔디는 타원형 또는 알갱이 모양입니다.\\n\\n**손에 대한 설명:**\\n\\n*   **피부:** 밝은 피부톤을 가진 손입니다.\\n*   **옷:** 손가락 일부가 보이는 옷은 갈색의 니트 또는 스웨터 같습니다.\\n\\n**전반적인 분위기:**\\n\\n*   **느낌:** 캔디를 들고 있는 모습에서 즐거움과 흥미를 느끼게 합니다.\\n*   **스타일:** 평범하고 일상적인 순간을 포착한 사진입니다.\\n\\n이 설명이 이미지에 대한 이해에 도움이 되었기를 바랍니다.',\n",
       "    'tool_calls': []},\n",
       "   'logprobs': None,\n",
       "   'finish_reason': 'stop',\n",
       "   'stop_reason': 106}],\n",
       " 'usage': {'prompt_tokens': 275,\n",
       "  'total_tokens': 645,\n",
       "  'completion_tokens': 370,\n",
       "  'prompt_tokens_details': None},\n",
       " 'prompt_logprobs': None}"
      ]
     },
     "execution_count": 35,
     "metadata": {},
     "output_type": "execute_result"
    }
   ],
   "source": [
    "response"
   ]
  },
  {
   "cell_type": "code",
   "execution_count": 36,
   "metadata": {},
   "outputs": [
    {
     "data": {
      "text/plain": [
       "{'role': 'assistant',\n",
       " 'reasoning_content': None,\n",
       " 'content': '이미지에 대한 설명입니다.\\n\\n**전반적인 내용:**\\n\\n*   **주요 피사체:** 한 손에 여러 개의 캔디가 들어 있는 모습입니다.\\n*   **배경:** 밝은 색상의 나무 바닥이 배경으로 보입니다.\\n*   **조명:** 자연광 또는 밝은 조명 아래 촬영되었으며, 손과 캔디에 그림자가 드리워져 있습니다.\\n\\n**캔디에 대한 설명:**\\n\\n*   **색상:** 캔디는 다양한 색상으로, 파란색, 주황색, 초록색, 보라색 등으로 보입니다.\\n*   **디자인:** 각 캔디에는 독특한 디자인이 새겨져 있습니다.\\n    *   파란색 캔디에는 잎 모양이 그려져 있습니다.\\n    *   보라색 캔디에는 작은 동물 모양이 그려져 있습니다.\\n    *   초록색 캔디에는 잎 모양이 그려져 있습니다.\\n    *   주황색 캔디에는 잎 모양이 그려져 있습니다.\\n*   **모양:** 캔디는 타원형 또는 알갱이 모양입니다.\\n\\n**손에 대한 설명:**\\n\\n*   **피부:** 밝은 피부톤을 가진 손입니다.\\n*   **옷:** 손가락 일부가 보이는 옷은 갈색의 니트 또는 스웨터 같습니다.\\n\\n**전반적인 분위기:**\\n\\n*   **느낌:** 캔디를 들고 있는 모습에서 즐거움과 흥미를 느끼게 합니다.\\n*   **스타일:** 평범하고 일상적인 순간을 포착한 사진입니다.\\n\\n이 설명이 이미지에 대한 이해에 도움이 되었기를 바랍니다.',\n",
       " 'tool_calls': []}"
      ]
     },
     "execution_count": 36,
     "metadata": {},
     "output_type": "execute_result"
    }
   ],
   "source": [
    "response['choices'][0]['message']"
   ]
  },
  {
   "cell_type": "code",
   "execution_count": null,
   "metadata": {},
   "outputs": [],
   "source": []
  },
  {
   "cell_type": "code",
   "execution_count": null,
   "metadata": {},
   "outputs": [],
   "source": []
  },
  {
   "cell_type": "code",
   "execution_count": null,
   "metadata": {},
   "outputs": [],
   "source": []
  }
 ],
 "metadata": {
  "kernelspec": {
   "display_name": "Python 3 (ipykernel)",
   "language": "python",
   "name": "python3"
  },
  "language_info": {
   "codemirror_mode": {
    "name": "ipython",
    "version": 3
   },
   "file_extension": ".py",
   "mimetype": "text/x-python",
   "name": "python",
   "nbconvert_exporter": "python",
   "pygments_lexer": "ipython3",
   "version": "3.11.11"
  }
 },
 "nbformat": 4,
 "nbformat_minor": 4
}
