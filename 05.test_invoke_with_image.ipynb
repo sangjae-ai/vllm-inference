{
 "cells": [
  {
   "cell_type": "markdown",
   "metadata": {},
   "source": [
    "# invoke with an image"
   ]
  },
  {
   "cell_type": "code",
   "execution_count": 1,
   "metadata": {},
   "outputs": [
    {
     "name": "stdout",
     "output_type": "stream",
     "text": [
      "sagemaker.config INFO - Not applying SDK defaults from location: /etc/xdg/sagemaker/config.yaml\n",
      "sagemaker.config INFO - Not applying SDK defaults from location: /home/sagemaker-user/.config/sagemaker/config.yaml\n"
     ]
    }
   ],
   "source": [
    "import io \n",
    "import sagemaker\n",
    "import boto3\n",
    "import json\n",
    "from sagemaker import get_execution_role\n",
    "\n",
    "import base64\n"
   ]
  },
  {
   "cell_type": "code",
   "execution_count": 2,
   "metadata": {},
   "outputs": [
    {
     "name": "stdout",
     "output_type": "stream",
     "text": [
      "arn:aws:iam::396608815783:role/service-role/AmazonSageMaker-ExecutionRole-20250207T102425 us-west-2\n"
     ]
    }
   ],
   "source": [
    "\n",
    "role = get_execution_role()\n",
    "region = boto3.Session().region_name\n",
    "print(role, region)\n",
    "\n",
    "sagemaker_session = sagemaker.session.Session()\n",
    "sm_client = boto3.client(\"sagemaker\", region_name=region)\n",
    "sm_runtime_client = boto3.client(\"sagemaker-runtime\")\n",
    "\n",
    "\n"
   ]
  },
  {
   "cell_type": "code",
   "execution_count": 3,
   "metadata": {},
   "outputs": [
    {
     "name": "stdout",
     "output_type": "stream",
     "text": [
      "{'Endpoints': [{'EndpointName': 'gemma3-s3-vllm-async-2025-08-14-02-10-03-005', 'EndpointArn': 'arn:aws:sagemaker:us-west-2:396608815783:endpoint/gemma3-s3-vllm-async-2025-08-14-02-10-03-005', 'CreationTime': datetime.datetime(2025, 8, 14, 2, 10, 5, 750000, tzinfo=tzlocal()), 'LastModifiedTime': datetime.datetime(2025, 8, 14, 2, 19, 17, 309000, tzinfo=tzlocal()), 'EndpointStatus': 'InService'}, {'EndpointName': 'gemma3-s3-vllm-async-2025-08-14-01-16-07-849', 'EndpointArn': 'arn:aws:sagemaker:us-west-2:396608815783:endpoint/gemma3-s3-vllm-async-2025-08-14-01-16-07-849', 'CreationTime': datetime.datetime(2025, 8, 14, 1, 16, 9, 400000, tzinfo=tzlocal()), 'LastModifiedTime': datetime.datetime(2025, 8, 14, 1, 25, 31, 472000, tzinfo=tzlocal()), 'EndpointStatus': 'InService'}, {'EndpointName': 'QWEN-2-5-7B-G5-2025-08-12-03-05-19-368', 'EndpointArn': 'arn:aws:sagemaker:us-west-2:396608815783:endpoint/QWEN-2-5-7B-G5-2025-08-12-03-05-19-368', 'CreationTime': datetime.datetime(2025, 8, 12, 3, 5, 27, 192000, tzinfo=tzlocal()), 'LastModifiedTime': datetime.datetime(2025, 8, 12, 3, 11, 48, 536000, tzinfo=tzlocal()), 'EndpointStatus': 'InService'}], 'ResponseMetadata': {'RequestId': '380228af-4c8d-49f8-9d63-087caaca15d6', 'HTTPStatusCode': 200, 'HTTPHeaders': {'x-amzn-requestid': '380228af-4c8d-49f8-9d63-087caaca15d6', 'content-type': 'application/x-amz-json-1.1', 'content-length': '816', 'date': 'Thu, 14 Aug 2025 03:10:49 GMT'}, 'RetryAttempts': 0}} \n",
      "\n",
      " - endpoint_name :  gemma3-s3-vllm-async-2025-08-14-02-10-03-005\n"
     ]
    }
   ],
   "source": [
    "# SageMaker Endpoint 이름\n",
    "# endpoint_name = sagemaker.utils.name_from_base(\"QWEN-2-5-7B-G5\")\n",
    "# endpoint_name = \"QWEN-2-5-7B-G5-2025-08-12-03-05-19-368\"\n",
    "\n",
    "\n",
    "all_endpoint = sm_client.list_endpoints()\n",
    "print(all_endpoint,\"\\n\")\n",
    "endpoint_name = all_endpoint['Endpoints'][0]['EndpointName']\n",
    "print(\" - endpoint_name : \", endpoint_name)\n",
    "\n",
    "image_path = \"images/test001.png\""
   ]
  },
  {
   "cell_type": "code",
   "execution_count": 4,
   "metadata": {},
   "outputs": [],
   "source": [
    "predictor = sagemaker.Predictor(\n",
    "    endpoint_name=endpoint_name,\n",
    "    sagemaker_session=sagemaker_session,\n",
    "    serializer=sagemaker.serializers.JSONSerializer(),\n",
    "    deserializer=sagemaker.deserializers.JSONDeserializer(),\n",
    ")\n"
   ]
  },
  {
   "cell_type": "code",
   "execution_count": 5,
   "metadata": {},
   "outputs": [],
   "source": [
    "# 1. 이미지 파일을 base64로 인코딩\n",
    "with open(image_path, \"rb\") as f:\n",
    "    image_b64 = base64.b64encode(f.read()).decode(\"utf-8\")\n",
    "\n",
    "\n",
    "payload = {\n",
    "    \"messages\": [\n",
    "        {\n",
    "            \"role\": \"user\",\n",
    "            \"content\": [\n",
    "                # {\"type\": \"image\", \"data\": image_b64},\n",
    "                # {\"type\": \"text\", \"text\": \"이 이미지는 무엇인가요?\"}\n",
    "                # {\"type\": \"text\", \"text\": \" Ai Agent 무엇인가요?\"}\n",
    "                # {\"type\": \"text\", \"text\": \"이 이미지는 무엇인가요?\"}\n",
    "                {\"type\": \"text\", \"text\": \"안녕하세요.\"},\n",
    "                # {\"type\": \"image\", \"image_url\": \"https://huggingface.co/datasets/huggingface/documentation-images/resolve/main/p-blog/candy.JPG\"},\n",
    "                # {\"type\": \"image\", \"data\": image_b64},\n",
    "                \n",
    "                \n",
    "            ]\n",
    "        }\n",
    "    ],\n",
    "    \"max_tokens\": 256,\n",
    "    \"temperature\": 0.8\n",
    "}\n",
    "\n",
    "payload = {\n",
    "    \"messages\": [\n",
    "        {\n",
    "            \"role\": \"user\",\n",
    "            \"content\": [\n",
    "                # {\"type\": \"text\", \"text\": \"hello.\"},\n",
    "                \n",
    "                {\"type\": \"image\", \"image_base64\": image_b64},\n",
    "                {\"type\": \"text\", \"text\": \"이 이미지의 내용을 설명해 주세요.\"},\n",
    "            ]\n",
    "        }\n",
    "    ]\n",
    "}\n",
    "\n",
    "single_image_payload = {\n",
    "    \"messages\": [\n",
    "        {\n",
    "            \"role\": \"user\",\n",
    "            \"content\": [\n",
    "                {\n",
    "                    \"type\": \"image_url\",\n",
    "                    \"image_url\": {\n",
    "                        \"url\": \"https://huggingface.co/datasets/huggingface/documentation-images/resolve/main/p-blog/candy.JPG\",\n",
    "                    }\n",
    "                },\n",
    "                {\n",
    "                    \"type\": \"text\",\n",
    "                    \"text\": \"이미지에 대해서 설명해줘.\",\n",
    "                },\n",
    "                \n",
    "            ]\n",
    "        }\n",
    "    ],\n",
    "    \"max_tokens\": 1024,\n",
    "    \"temperature\": 0.6,\n",
    "    \"top_p\": 0.9,\n",
    "}\n"
   ]
  },
  {
   "cell_type": "code",
   "execution_count": 6,
   "metadata": {},
   "outputs": [],
   "source": [
    "# JSON 문자열로 변환\n",
    "# payload_json = json.dumps(payload)\n",
    "\n",
    "# 엔드포인트에 요청 보내기\n",
    "# response = predictor.predict(data=payload_json)\n",
    "response = predictor.predict(single_image_payload)"
   ]
  },
  {
   "cell_type": "code",
   "execution_count": 7,
   "metadata": {},
   "outputs": [
    {
     "data": {
      "text/plain": [
       "{'id': 'chatcmpl-d3b75864c81b4112b527c2c56e29fcf0',\n",
       " 'object': 'chat.completion',\n",
       " 'created': 1755141052,\n",
       " 'model': 'lmi',\n",
       " 'choices': [{'index': 0,\n",
       "   'message': {'role': 'assistant',\n",
       "    'reasoning_content': None,\n",
       "    'content': '이미지에는 다음과 같은 내용이 담겨 있습니다:\\n\\n*   **손:** 밝은 갈색 피부의 손이 보입니다. 손바닥이 위를 향하고 있으며, 손가락 사이에는 다양한 색깔의 캔디가 놓여 있습니다.\\n*   **캔디:** 손바닥에는 다음과 같은 캔디들이 놓여 있습니다.\\n    *   **파란색 캔디:** 파란색 바탕에 녹색 잎 모양의 그림이 그려져 있습니다.\\n    *   **청록색 캔디:** 청록색 캔디에는 검은색 잎 모양의 그림이 그려져 있습니다.\\n    *   **주황색 캔디:** 주황색 캔디에는 녹색 잎 모양의 그림이 그려져 있습니다.\\n    *   **초록색 캔디:** 초록색 캔디에는 검은색 잎 모양의 그림이 그려져 있습니다.\\n*   **배경:** 손과 캔디는 밝은 나무 질감의 테이블 위에 놓여 있습니다. 테이블 뒤로는 파란색 옷을 입은 사람이 보입니다.\\n\\n전체적으로, 손에 다양한 색깔과 디자인의 캔디들이 놓여 있는 모습이 담겨 있습니다.',\n",
       "    'tool_calls': []},\n",
       "   'logprobs': None,\n",
       "   'finish_reason': 'stop',\n",
       "   'stop_reason': 106}],\n",
       " 'usage': {'prompt_tokens': 275,\n",
       "  'total_tokens': 541,\n",
       "  'completion_tokens': 266,\n",
       "  'prompt_tokens_details': None},\n",
       " 'prompt_logprobs': None}"
      ]
     },
     "execution_count": 7,
     "metadata": {},
     "output_type": "execute_result"
    }
   ],
   "source": [
    "response"
   ]
  },
  {
   "cell_type": "code",
   "execution_count": 8,
   "metadata": {},
   "outputs": [
    {
     "data": {
      "text/plain": [
       "{'role': 'assistant',\n",
       " 'reasoning_content': None,\n",
       " 'content': '이미지에는 다음과 같은 내용이 담겨 있습니다:\\n\\n*   **손:** 밝은 갈색 피부의 손이 보입니다. 손바닥이 위를 향하고 있으며, 손가락 사이에는 다양한 색깔의 캔디가 놓여 있습니다.\\n*   **캔디:** 손바닥에는 다음과 같은 캔디들이 놓여 있습니다.\\n    *   **파란색 캔디:** 파란색 바탕에 녹색 잎 모양의 그림이 그려져 있습니다.\\n    *   **청록색 캔디:** 청록색 캔디에는 검은색 잎 모양의 그림이 그려져 있습니다.\\n    *   **주황색 캔디:** 주황색 캔디에는 녹색 잎 모양의 그림이 그려져 있습니다.\\n    *   **초록색 캔디:** 초록색 캔디에는 검은색 잎 모양의 그림이 그려져 있습니다.\\n*   **배경:** 손과 캔디는 밝은 나무 질감의 테이블 위에 놓여 있습니다. 테이블 뒤로는 파란색 옷을 입은 사람이 보입니다.\\n\\n전체적으로, 손에 다양한 색깔과 디자인의 캔디들이 놓여 있는 모습이 담겨 있습니다.',\n",
       " 'tool_calls': []}"
      ]
     },
     "execution_count": 8,
     "metadata": {},
     "output_type": "execute_result"
    }
   ],
   "source": [
    "response['choices'][0]['message']"
   ]
  },
  {
   "cell_type": "code",
   "execution_count": null,
   "metadata": {},
   "outputs": [],
   "source": []
  },
  {
   "cell_type": "code",
   "execution_count": null,
   "metadata": {},
   "outputs": [],
   "source": []
  },
  {
   "cell_type": "code",
   "execution_count": null,
   "metadata": {},
   "outputs": [],
   "source": []
  }
 ],
 "metadata": {
  "kernelspec": {
   "display_name": "Python 3 (ipykernel)",
   "language": "python",
   "name": "python3"
  },
  "language_info": {
   "codemirror_mode": {
    "name": "ipython",
    "version": 3
   },
   "file_extension": ".py",
   "mimetype": "text/x-python",
   "name": "python",
   "nbconvert_exporter": "python",
   "pygments_lexer": "ipython3",
   "version": "3.11.11"
  }
 },
 "nbformat": 4,
 "nbformat_minor": 4
}
